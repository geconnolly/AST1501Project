{
 "cells": [
  {
   "cell_type": "code",
   "execution_count": null,
   "id": "c79e81e5",
   "metadata": {},
   "outputs": [],
   "source": [
    "import plottingbeams as pb\n",
    "\n",
    "# plot two individual feeds\n",
    "plot1, plot17 = pb.plot_one_feed(r'farfield_f_0.3_[1]_.5step.txt', r'farfield_f_0.3_[17].txt')\n",
    "hp.mollview(plot1, title=\".3 GHz: [1]\", unit=\"Power\")\n",
    "hp.mollview(plot17, title=\".3 GHz: [17]\", unit=\"Power\")\n",
    "\n",
    "# plot two feeds combined\n",
    "plot2 = pb.plot_two_feeds(r'farfield_f_0.3_[1]_.5step.txt', r'farfield_f_0.3_[17].txt')\n",
    "hp.mollview(plot2, title=\".3 GHz: [1] and [17]\", unit=\"Power\")\n",
    "\n",
    "# plot one stack (primary beam pattern) - no weighting\n",
    "plot_primarybeam = pb.plot_rotated_stacks(r'farfield_f_0.3_[1]_.5step.txt', r'farfield_f_0.3_[17].txt', [1], SNR=False)\n",
    "hp.mollview(plot_primarybeam, title=\".3 GHz: 1 Stack, No Weighting\", unit=\"Power\")\n",
    "\n",
    "# plot total antenna - no weighting\n",
    "plot_all = pb.plot_rotated_stacks(r'farfield_f_0.3_[1]_.5step.txt', r'farfield_f_0.3_[17].txt', np.arange(1,17), SNR=False)\n",
    "hp.mollview(plot_all, title=\".3 GHz: All Stacks, No Weighting\", unit=\"Power\")"
   ]
  }
 ],
 "metadata": {
  "kernelspec": {
   "display_name": "Python 3 (ipykernel)",
   "language": "python",
   "name": "python3"
  },
  "language_info": {
   "codemirror_mode": {
    "name": "ipython",
    "version": 3
   },
   "file_extension": ".py",
   "mimetype": "text/x-python",
   "name": "python",
   "nbconvert_exporter": "python",
   "pygments_lexer": "ipython3",
   "version": "3.12.3"
  }
 },
 "nbformat": 4,
 "nbformat_minor": 5
}
