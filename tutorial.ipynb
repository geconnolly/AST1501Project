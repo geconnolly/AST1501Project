import plottingbeams as pb

# plot two individual feeds
plot1, plot17 = pb.plot_one_feed(r'farfield_f_0.3_[1]_.5step.txt', r'farfield_f_0.3_[17].txt')
hp.mollview(plot1, title=".3 GHz: [1]", unit="Power")
hp.mollview(plot17, title=".3 GHz: [17]", unit="Power")

# plot two feeds combined
plot2 = pb.plot_two_feeds(r'farfield_f_0.3_[1]_.5step.txt', r'farfield_f_0.3_[17].txt')
hp.mollview(plot2, title=".3 GHz: [1] and [17]", unit="Power")

# plot one stack (primary beam pattern) - no weighting
plot_primarybeam = pb.plot_rotated_stacks(r'farfield_f_0.3_[1]_.5step.txt', r'farfield_f_0.3_[17].txt', [1], SNR=False)
hp.mollview(plot_primarybeam, title=".3 GHz: 1 Stack, No Weighting", unit="Power")

# plot total antenna - no weighting
plot_all = pb.plot_rotated_stacks(r'farfield_f_0.3_[1]_.5step.txt', r'farfield_f_0.3_[17].txt', np.arange(1,17), SNR=False)
hp.mollview(plot_all, title=".3 GHz: All Stacks, No Weighting", unit="Power")
